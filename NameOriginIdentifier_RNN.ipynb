{
 "cells": [
  {
   "cell_type": "code",
   "execution_count": null,
   "id": "e0cc3413",
   "metadata": {},
   "outputs": [],
   "source": []
  },
  {
   "cell_type": "markdown",
   "id": "b1afa733",
   "metadata": {},
   "source": [
    "# Name Origin Identifier using RNN"
   ]
  },
  {
   "cell_type": "markdown",
   "id": "169a0091",
   "metadata": {},
   "source": [
    "**This project builds a PyTorch-based recurrent neural network (RNN) that identifies the origin of names. The RNN is trained on a total of 20074 names from 18 origins.**\n",
    "\n",
    "An RNN is a neural network that can take sequences of inputs and produce output(s). In this project, the inputs are names. Hence, the alphabets in the names form a sequence of input which the RNN uses to predict the origin. For each alphabet in the name, the RNN calculates an output and a hidden state. The hidden state is passed on to the next layer as an input along with the next alphabet. Hidden states get passed on to the next layer recurrently until the RNN takes the final alphabet and final hidden state as the inputs to produce the output."
   ]
  },
  {
   "cell_type": "markdown",
   "id": "0af09564",
   "metadata": {},
   "source": [
    "### Helper Functions "
   ]
  },
  {
   "cell_type": "markdown",
   "id": "8ee89d62",
   "metadata": {},
   "source": [
    "First, let us define some helper function that will: \n",
    "- extract only the english alphabets from the names and drop any special characters.\n",
    "- Load the datasets.\n",
    "- Convert the data into tensors."
   ]
  },
  {
   "cell_type": "code",
   "execution_count": 1,
   "id": "a098c7cd",
   "metadata": {},
   "outputs": [],
   "source": [
    "path = \"Data\""
   ]
  },
  {
   "cell_type": "code",
   "execution_count": 2,
   "id": "c9558ae6",
   "metadata": {},
   "outputs": [],
   "source": [
    "import unicodedata #This module is used to read or breakdown unicode text\n",
    "import string #We can import ascii letters by typing string.ascii_letters\n",
    "import glob #This module extracts the file names\n",
    "import io #This module is simply used for opening files\n",
    "import os\n",
    "import numpy as np\n",
    "import random\n",
    "\n",
    "import torch as torch\n",
    "import torch.nn as nn\n",
    "import torch.nn.functional as F\n",
    "\n",
    "import matplotlib.pyplot as plt"
   ]
  },
  {
   "cell_type": "code",
   "execution_count": 3,
   "id": "45cc363a",
   "metadata": {},
   "outputs": [],
   "source": [
    "alphabets = 'abcdefghijklmnopqrstuvwxyz ABCDEFGHIJKLMNOPQRSTUVWXYZ'\n",
    "number_of_alphabets = len(alphabets)"
   ]
  },
  {
   "cell_type": "code",
   "execution_count": 4,
   "id": "d5e1d25e",
   "metadata": {},
   "outputs": [],
   "source": [
    "def unicode_to_ascii(s): \n",
    "    s = \"\".join([c for c in unicodedata.normalize('NFD', s) if unicodedata.category(c)!=\"Mn\" and c in alphabets])\n",
    "    #unicode.normalize breakdowns words into individual characters (including modifying characters such as the umlaut in German)\n",
    "    #unicode.category(c)!='Mn' is saying that the character c is not a modifying character\n",
    "    return s"
   ]
  },
  {
   "cell_type": "code",
   "execution_count": 5,
   "id": "1b100dd2",
   "metadata": {},
   "outputs": [],
   "source": [
    "def load_data():\n",
    "    category_lines = {}\n",
    "    all_categories = []\n",
    "    \n",
    "    def find_files(path):\n",
    "        return glob.glob(path) #Extracts all the file names including the paths\n",
    "    \n",
    "    def read_lines(filename):\n",
    "        lines = io.open(filename, encoding=\"utf-8\").read().strip().split(\"\\n\") #Produces a list of names from the file\n",
    "        return [unicode_to_ascii(line) for line in lines]\n",
    "    \n",
    "    for file in find_files(f\"{path}/*.txt\"):\n",
    "        category = os.path.splitext(os.path.basename(file))[0] #Extracts the filename excluding file extension\n",
    "        all_categories.append(category)\n",
    "        \n",
    "        category_lines[category]=read_lines(file)\n",
    "    \n",
    "    return category_lines, all_categories"
   ]
  },
  {
   "cell_type": "code",
   "execution_count": 6,
   "id": "23fbca77",
   "metadata": {},
   "outputs": [],
   "source": [
    "def alphabet_to_index(alphabet):\n",
    "    return alphabets.index(alphabet)"
   ]
  },
  {
   "cell_type": "code",
   "execution_count": 7,
   "id": "be3c5503",
   "metadata": {},
   "outputs": [],
   "source": [
    "def alphabet_to_tensor(alphabet):\n",
    "    tensor = torch.zeros(1,number_of_alphabets)\n",
    "    tensor[0, alphabet_to_index(alphabet)]=1\n",
    "    return tensor"
   ]
  },
  {
   "cell_type": "code",
   "execution_count": 8,
   "id": "a727f93f",
   "metadata": {},
   "outputs": [],
   "source": [
    "def line_to_tensor(line):\n",
    "    tensor = torch.zeros(len(line), 1, number_of_alphabets)\n",
    "    #Think len(line) dfs with 1 row and number_of_alphabet columns\n",
    "    #Each dataframe represents one line (in this case, line is actually a name)\n",
    "    for index, alphabet in enumerate(line):\n",
    "        tensor[index][0][alphabet_to_index(alphabet)] = 1\n",
    "    return tensor"
   ]
  },
  {
   "cell_type": "code",
   "execution_count": 9,
   "id": "c2576bdd",
   "metadata": {},
   "outputs": [],
   "source": [
    "def load_random_input(category_lines, all_categories):\n",
    "    category_idx = random.choice(np.arange(1,len(all_categories),1))\n",
    "    category = all_categories[category_idx]\n",
    "    \n",
    "    line_idx = random.choice(np.arange(1,len(category_lines[category]),1))    \n",
    "    line = category_lines[category][line_idx]\n",
    "    \n",
    "    category_tensor = torch.tensor([all_categories.index(category)], dtype=torch.long)\n",
    "    line_tensor = line_to_tensor(line)\n",
    "    \n",
    "    return category, line, category_tensor, line_tensor"
   ]
  },
  {
   "cell_type": "code",
   "execution_count": 10,
   "id": "1b0ed7c3",
   "metadata": {},
   "outputs": [],
   "source": [
    "def output_to_category(output):\n",
    "        category_idx = torch.argmax(output).item() #The same as doing int(output.argmax()). This returns an int instead of tensor\n",
    "        return all_categories[category_idx]"
   ]
  },
  {
   "cell_type": "markdown",
   "id": "551125fd",
   "metadata": {},
   "source": [
    "### Building the RNN Model"
   ]
  },
  {
   "cell_type": "code",
   "execution_count": 11,
   "id": "9a0c6261",
   "metadata": {},
   "outputs": [],
   "source": [
    "class RNN(nn.Module):\n",
    "    \n",
    "    def __init__(self, input_size, hidden_size, output_size, learning_rate):\n",
    "        super(RNN, self).__init__() #Inheriting the attributes from the super class\n",
    "        \n",
    "        self.input_size = input_size\n",
    "        self.output_size = output_size\n",
    "        self.hidden_size = hidden_size \n",
    "        self.i2h = nn.Linear(self.input_size+self.hidden_size, self.hidden_size) #Instance of a linear layer X*A(Transpose) + B\n",
    "        self.i2o = nn.Linear(self.input_size+self.hidden_size, self.output_size) #A and B can be optimized using optimizer\n",
    "        self.softmax = nn.LogSoftmax(dim=1)\n",
    "        self.criterion = nn.NLLLoss()\n",
    "        self.optimizer = torch.optim.SGD(self.parameters(), lr=learning_rate)\n",
    "    \n",
    "    def init_hidden(self):\n",
    "        return torch.zeros(1,self.hidden_size)\n",
    "    \n",
    "    def forward(self, input_tensor, hidden_tensor):\n",
    "        combined = torch.cat((input_tensor, hidden_tensor), dim=1) #The same as concatenating a df along its columns \n",
    "        \n",
    "        hidden = self.i2h(combined)\n",
    "        output = self.i2o(combined)\n",
    "        output = self.softmax(output)\n",
    "        \n",
    "        return output, hidden\n",
    "    \n",
    "    def training_step(self, line_tensor, category_tensor):\n",
    "        hidden = self.init_hidden()\n",
    "        \n",
    "        for i in range(len(line_tensor)): #Because we have to run a forward pass for each alphabet to get the final output\n",
    "            output, hidden = self.forward(line_tensor[i], hidden)\n",
    "        \n",
    "        loss = self.criterion(output, category_tensor) #The criterion compares the log probabilities of output and category tensors\n",
    "        \n",
    "        self.optimizer.zero_grad() #Sets all gradients to zero\n",
    "        loss.backward() #Calculates all the gradients of the loss w.r.t. the rnn parameters\n",
    "        self.optimizer.step() #Takes a step to change the parameters based on the calculated gradients\n",
    "        \n",
    "        return output, loss.item() #loss.item() returns loss as an integer instead of a tensor\n",
    "            \n",
    "    def train(self, category_lines, all_categories, number_of_iterations):\n",
    "        plot_steps, print_steps = number_of_iterations/100, number_of_iterations/20 \n",
    "        all_losses = []\n",
    "        sum_of_losses = 0\n",
    "        \n",
    "        for i in range(0, number_of_iterations):\n",
    "            category, line, category_tensor, line_tensor = load_random_input(category_lines, all_categories)\n",
    "            output, loss = self.training_step(line_tensor, category_tensor)\n",
    "            sum_of_losses += loss\n",
    "            \n",
    "            if (i+1)%plot_steps == 0:\n",
    "                all_losses.append(sum_of_losses/plot_steps)\n",
    "                sum_of_losses = 0\n",
    "\n",
    "            if (i+1)%print_steps == 0:\n",
    "                guess = output_to_category(output)\n",
    "                if guess==category:\n",
    "                    correct = f\"Guess: {guess} | Correct/Wrong: Correct\" \n",
    "                else: \n",
    "                    correct = f\"Guess: {guess} | Correct/Wrong: Wrong ({category})\"\n",
    "                    \n",
    "                print(f\"{i+1}th iteration | loss:{loss} | Name: {line} | {correct}\")\n",
    "        \n",
    "        plt.figure()\n",
    "        plt.plot(all_losses)\n",
    "        ax=plt.gca()\n",
    "        ax.set_xlabel(\"Iteration\")\n",
    "        ax.set_ylabel(\"Loss\")\n",
    "        plt.show\n",
    "        \n",
    "    def predict(self, input_line):\n",
    "        with torch.no_grad():\n",
    "            input_tensor = line_to_tensor(input_line)\n",
    "            hidden_tensor = self.init_hidden()\n",
    "            for i in range(len(input_line)): #Because we have to run a forward pass for each alphabet to get the final output\n",
    "                output, hidden_tensor = rnn.forward(input_tensor[i], hidden_tensor)\n",
    "\n",
    "        prediction = output_to_category(output)\n",
    "        print(f\"Name: {input_line} | Origin: {prediction}\")"
   ]
  },
  {
   "cell_type": "markdown",
   "id": "7f637faa",
   "metadata": {},
   "source": [
    "### Understanding how the RNN is trained"
   ]
  },
  {
   "cell_type": "markdown",
   "id": "9ba8e874",
   "metadata": {},
   "source": [
    "nn.Linear creates an instance of a linear layer **(performing linear transformation X*A(Transpose) + B)** where A and B are parameters that can be optimized using the optimzer. nn.Linear takes two arguments in_features, out_features, which are the number of features (columns) in the input and the number of features (columns) in the output respectively."
   ]
  },
  {
   "cell_type": "code",
   "execution_count": 12,
   "id": "a4feb26c",
   "metadata": {},
   "outputs": [],
   "source": [
    "LL = nn.Linear(2,1) "
   ]
  },
  {
   "cell_type": "markdown",
   "id": "c8fa3b04",
   "metadata": {},
   "source": [
    "nn.Linear initializes the weights (**A**) and biases (**B**) by itself but we can manually initialize it if we want. In the following cell, they have been initialized. "
   ]
  },
  {
   "cell_type": "code",
   "execution_count": 13,
   "id": "953e7b25",
   "metadata": {},
   "outputs": [],
   "source": [
    "LL.weight = nn.Parameter(torch.tensor([[1.0, 1.0]]))\n",
    "LL.bias = nn.Parameter(torch.tensor([[1.0]]))"
   ]
  },
  {
   "cell_type": "markdown",
   "id": "01330634",
   "metadata": {},
   "source": [
    "In the following cell, a linear transformation has been applied to a tensor using the **\"LL\"** linear layer."
   ]
  },
  {
   "cell_type": "code",
   "execution_count": 14,
   "id": "119ff4ea",
   "metadata": {},
   "outputs": [
    {
     "data": {
      "text/plain": [
       "tensor([[ 4.],\n",
       "        [10.]], grad_fn=<AddmmBackward0>)"
      ]
     },
     "execution_count": 14,
     "metadata": {},
     "output_type": "execute_result"
    }
   ],
   "source": [
    "LL(torch.tensor([[1.0,2.0],[4.0,5.0]]))"
   ]
  },
  {
   "cell_type": "markdown",
   "id": "0cb4f628",
   "metadata": {},
   "source": [
    "The linear transformation applied by nn.Linear can be thought of as the following operation, which has been performed on the numpy array."
   ]
  },
  {
   "cell_type": "code",
   "execution_count": 15,
   "id": "798f5603",
   "metadata": {},
   "outputs": [
    {
     "data": {
      "text/plain": [
       "array([[ 4.],\n",
       "       [10.]])"
      ]
     },
     "execution_count": 15,
     "metadata": {},
     "output_type": "execute_result"
    }
   ],
   "source": [
    "import numpy as np\n",
    "np.matmul([[1.0,2.0],[4.0,5.0]], np.array([[1.0, 1.0]]).T) + [[1.0]]"
   ]
  },
  {
   "cell_type": "markdown",
   "id": "ce9ccc01",
   "metadata": {},
   "source": [
    "### Training the RNN model "
   ]
  },
  {
   "cell_type": "code",
   "execution_count": 16,
   "id": "5771e9ac",
   "metadata": {},
   "outputs": [],
   "source": [
    "category_lines, all_categories = load_data()\n",
    "number_of_categories = len(all_categories)\n",
    "\n",
    "rnn = RNN(number_of_alphabets, 128, number_of_categories, 0.005)"
   ]
  },
  {
   "cell_type": "code",
   "execution_count": 17,
   "id": "8393a649",
   "metadata": {},
   "outputs": [
    {
     "name": "stdout",
     "output_type": "stream",
     "text": [
      "5000th iteration | loss:2.1465768814086914 | Name: Golosenko | Guess: Russian | Correct/Wrong: Correct\n",
      "10000th iteration | loss:2.2102484703063965 | Name: Terauchi | Guess: Italian | Correct/Wrong: Wrong (Japanese)\n",
      "15000th iteration | loss:2.0404157638549805 | Name: Nunez | Guess: Dutch | Correct/Wrong: Wrong (Spanish)\n",
      "20000th iteration | loss:1.4953036308288574 | Name: Kieu | Guess: Vietnamese | Correct/Wrong: Correct\n",
      "25000th iteration | loss:1.847130537033081 | Name: Douglas | Guess: Greek | Correct/Wrong: Wrong (Scottish)\n",
      "30000th iteration | loss:2.219425678253174 | Name: Langbroek | Guess: Scottish | Correct/Wrong: Wrong (Dutch)\n",
      "35000th iteration | loss:2.9263148307800293 | Name: Cann | Guess: Korean | Correct/Wrong: Wrong (Dutch)\n",
      "40000th iteration | loss:0.998504638671875 | Name: Chai | Guess: Chinese | Correct/Wrong: Correct\n",
      "45000th iteration | loss:0.24409663677215576 | Name: Mitsuya | Guess: Japanese | Correct/Wrong: Correct\n",
      "50000th iteration | loss:0.22554154694080353 | Name: Ilyahin | Guess: Russian | Correct/Wrong: Correct\n",
      "55000th iteration | loss:0.8719985485076904 | Name: Whyte | Guess: Scottish | Correct/Wrong: Correct\n",
      "60000th iteration | loss:1.1514734029769897 | Name: Araujo | Guess: Portuguese | Correct/Wrong: Correct\n",
      "65000th iteration | loss:2.1388280391693115 | Name: Villaverde | Guess: Irish | Correct/Wrong: Wrong (Spanish)\n",
      "70000th iteration | loss:2.000061273574829 | Name: Sai | Guess: Chinese | Correct/Wrong: Wrong (Vietnamese)\n",
      "75000th iteration | loss:0.08746446669101715 | Name: Coghlan | Guess: Irish | Correct/Wrong: Correct\n",
      "80000th iteration | loss:0.8331719636917114 | Name: Tse | Guess: Chinese | Correct/Wrong: Correct\n",
      "85000th iteration | loss:1.2060067653656006 | Name: Yun | Guess: Chinese | Correct/Wrong: Wrong (Korean)\n",
      "90000th iteration | loss:0.011098437942564487 | Name: Vamvakidis | Guess: Greek | Correct/Wrong: Correct\n",
      "95000th iteration | loss:0.8405054211616516 | Name: Martyshin | Guess: Russian | Correct/Wrong: Correct\n",
      "100000th iteration | loss:2.24920654296875 | Name: Aller | Guess: German | Correct/Wrong: Wrong (Dutch)\n"
     ]
    },
    {
     "data": {
      "image/png": "[encoded data removed]",
      "text/plain": [
       "<Figure size 640x480 with 1 Axes>"
      ]
     },
     "metadata": {},
     "output_type": "display_data"
    }
   ],
   "source": [
    "rnn.train(category_lines, all_categories, 100000)"
   ]
  },
  {
   "cell_type": "markdown",
   "id": "cfb92516",
   "metadata": {},
   "source": [
    "### Testing the RNN Model"
   ]
  },
  {
   "cell_type": "code",
   "execution_count": 19,
   "id": "6674a7bd",
   "metadata": {},
   "outputs": [
    {
     "name": "stdout",
     "output_type": "stream",
     "text": [
      "Name: Adam | Origin: Irish\n"
     ]
    }
   ],
   "source": [
    "rnn.predict(\"Adam\")"
   ]
  },
  {
   "cell_type": "markdown",
   "id": "d2b224f2",
   "metadata": {},
   "source": [
    "### References "
   ]
  },
  {
   "cell_type": "markdown",
   "id": "766e40cb",
   "metadata": {},
   "source": [
    "https://www.youtube.com/watch?v=WEV61GmmPrk"
   ]
  }
 ],
 "metadata": {
  "kernelspec": {
   "display_name": "Python 3 (ipykernel)",
   "language": "python",
   "name": "python3"
  },
  "language_info": {
   "codemirror_mode": {
    "name": "ipython",
    "version": 3
   },
   "file_extension": ".py",
   "mimetype": "text/x-python",
   "name": "python",
   "nbconvert_exporter": "python",
   "pygments_lexer": "ipython3",
   "version": "3.10.9"
  }
 },
 "nbformat": 4,
 "nbformat_minor": 5
}
